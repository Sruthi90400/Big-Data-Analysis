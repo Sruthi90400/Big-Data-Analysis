{
  "nbformat": 4,
  "nbformat_minor": 0,
  "metadata": {
    "colab": {
      "provenance": []
    },
    "kernelspec": {
      "name": "python3",
      "display_name": "Python 3"
    },
    "language_info": {
      "name": "python"
    }
  },
  "cells": [
    {
      "cell_type": "markdown",
      "source": [
        "step-1 :  Install PySpark"
      ],
      "metadata": {
        "id": "Qoa_7Sv2MExo"
      }
    },
    {
      "cell_type": "code",
      "execution_count": 2,
      "metadata": {
        "colab": {
          "base_uri": "https://localhost:8080/"
        },
        "id": "QA5bgFKJLVR_",
        "outputId": "b87e07fa-c218-4e3d-8869-7ce1064b8f72"
      },
      "outputs": [
        {
          "output_type": "stream",
          "name": "stdout",
          "text": [
            "Requirement already satisfied: pyspark in /usr/local/lib/python3.11/dist-packages (3.5.1)\n",
            "Requirement already satisfied: py4j==0.10.9.7 in /usr/local/lib/python3.11/dist-packages (from pyspark) (0.10.9.7)\n"
          ]
        }
      ],
      "source": [
        "pip install pyspark\n"
      ]
    },
    {
      "cell_type": "markdown",
      "source": [
        "step-2 : Import required libraries"
      ],
      "metadata": {
        "id": "KJWapkaKMTqc"
      }
    },
    {
      "cell_type": "code",
      "source": [
        "from pyspark.sql import SparkSession\n",
        "from pyspark.sql.functions import avg, count, desc, col\n"
      ],
      "metadata": {
        "id": "rDjdlzTPMI9z"
      },
      "execution_count": 3,
      "outputs": []
    },
    {
      "cell_type": "markdown",
      "source": [
        "Step 3: Initialize Spark Session\n"
      ],
      "metadata": {
        "id": "1ETj8lggMqNN"
      }
    },
    {
      "cell_type": "code",
      "source": [
        "spark = SparkSession.builder \\\n",
        "    .appName(\"Big Data Analysis - NYC Taxi\") \\\n",
        "    .getOrCreate()\n"
      ],
      "metadata": {
        "id": "YbBV5NAIMktl"
      },
      "execution_count": 4,
      "outputs": []
    },
    {
      "cell_type": "markdown",
      "source": [
        "Step 4: Downloading the Dataset"
      ],
      "metadata": {
        "id": "6mAHABnyOkYK"
      }
    },
    {
      "cell_type": "code",
      "source": [
        "# Download January 2023 NYC Yellow Taxi Trip Data (Parquet format)\n",
        "!wget https://d37ci6vzurychx.cloudfront.net/trip-data/yellow_tripdata_2023-01.parquet -O yellow_tripdata_2023-01.parquet"
      ],
      "metadata": {
        "colab": {
          "base_uri": "https://localhost:8080/"
        },
        "id": "HPSxttG5Oiq-",
        "outputId": "ba7d4d93-e28d-4787-d7d8-119eb36c805c"
      },
      "execution_count": 10,
      "outputs": [
        {
          "output_type": "stream",
          "name": "stdout",
          "text": [
            "--2025-06-22 06:01:28--  https://d37ci6vzurychx.cloudfront.net/trip-data/yellow_tripdata_2023-01.parquet\n",
            "Resolving d37ci6vzurychx.cloudfront.net (d37ci6vzurychx.cloudfront.net)... 18.160.201.50, 18.160.201.126, 18.160.201.5, ...\n",
            "Connecting to d37ci6vzurychx.cloudfront.net (d37ci6vzurychx.cloudfront.net)|18.160.201.50|:443... connected.\n",
            "HTTP request sent, awaiting response... 200 OK\n",
            "Length: 47673370 (45M) [application/x-www-form-urlencoded]\n",
            "Saving to: ‘yellow_tripdata_2023-01.parquet’\n",
            "\n",
            "yellow_tripdata_202 100%[===================>]  45.46M   220MB/s    in 0.2s    \n",
            "\n",
            "2025-06-22 06:01:28 (220 MB/s) - ‘yellow_tripdata_2023-01.parquet’ saved [47673370/47673370]\n",
            "\n"
          ]
        }
      ]
    },
    {
      "cell_type": "markdown",
      "source": [
        " Step 5: Load the large dataset\n"
      ],
      "metadata": {
        "id": "Vz14NvCkM6FR"
      }
    },
    {
      "cell_type": "code",
      "source": [
        "df = spark.read.parquet(\"yellow_tripdata_2023-01.parquet\")\n",
        "\n",
        "# Show sample data\n",
        "df.show(5)\n",
        "df.printSchema()"
      ],
      "metadata": {
        "colab": {
          "base_uri": "https://localhost:8080/"
        },
        "id": "84A94Cz2Mwk2",
        "outputId": "00912828-cb0f-4453-b084-c18208b69f88"
      },
      "execution_count": 12,
      "outputs": [
        {
          "output_type": "stream",
          "name": "stdout",
          "text": [
            "+--------+--------------------+---------------------+---------------+-------------+----------+------------------+------------+------------+------------+-----------+-----+-------+----------+------------+---------------------+------------+--------------------+-----------+\n",
            "|VendorID|tpep_pickup_datetime|tpep_dropoff_datetime|passenger_count|trip_distance|RatecodeID|store_and_fwd_flag|PULocationID|DOLocationID|payment_type|fare_amount|extra|mta_tax|tip_amount|tolls_amount|improvement_surcharge|total_amount|congestion_surcharge|airport_fee|\n",
            "+--------+--------------------+---------------------+---------------+-------------+----------+------------------+------------+------------+------------+-----------+-----+-------+----------+------------+---------------------+------------+--------------------+-----------+\n",
            "|       2| 2023-01-01 00:32:10|  2023-01-01 00:40:36|            1.0|         0.97|       1.0|                 N|         161|         141|           2|        9.3|  1.0|    0.5|       0.0|         0.0|                  1.0|        14.3|                 2.5|        0.0|\n",
            "|       2| 2023-01-01 00:55:08|  2023-01-01 01:01:27|            1.0|          1.1|       1.0|                 N|          43|         237|           1|        7.9|  1.0|    0.5|       4.0|         0.0|                  1.0|        16.9|                 2.5|        0.0|\n",
            "|       2| 2023-01-01 00:25:04|  2023-01-01 00:37:49|            1.0|         2.51|       1.0|                 N|          48|         238|           1|       14.9|  1.0|    0.5|      15.0|         0.0|                  1.0|        34.9|                 2.5|        0.0|\n",
            "|       1| 2023-01-01 00:03:48|  2023-01-01 00:13:25|            0.0|          1.9|       1.0|                 N|         138|           7|           1|       12.1| 7.25|    0.5|       0.0|         0.0|                  1.0|       20.85|                 0.0|       1.25|\n",
            "|       2| 2023-01-01 00:10:29|  2023-01-01 00:21:19|            1.0|         1.43|       1.0|                 N|         107|          79|           1|       11.4|  1.0|    0.5|      3.28|         0.0|                  1.0|       19.68|                 2.5|        0.0|\n",
            "+--------+--------------------+---------------------+---------------+-------------+----------+------------------+------------+------------+------------+-----------+-----+-------+----------+------------+---------------------+------------+--------------------+-----------+\n",
            "only showing top 5 rows\n",
            "\n",
            "root\n",
            " |-- VendorID: long (nullable = true)\n",
            " |-- tpep_pickup_datetime: timestamp_ntz (nullable = true)\n",
            " |-- tpep_dropoff_datetime: timestamp_ntz (nullable = true)\n",
            " |-- passenger_count: double (nullable = true)\n",
            " |-- trip_distance: double (nullable = true)\n",
            " |-- RatecodeID: double (nullable = true)\n",
            " |-- store_and_fwd_flag: string (nullable = true)\n",
            " |-- PULocationID: long (nullable = true)\n",
            " |-- DOLocationID: long (nullable = true)\n",
            " |-- payment_type: long (nullable = true)\n",
            " |-- fare_amount: double (nullable = true)\n",
            " |-- extra: double (nullable = true)\n",
            " |-- mta_tax: double (nullable = true)\n",
            " |-- tip_amount: double (nullable = true)\n",
            " |-- tolls_amount: double (nullable = true)\n",
            " |-- improvement_surcharge: double (nullable = true)\n",
            " |-- total_amount: double (nullable = true)\n",
            " |-- congestion_surcharge: double (nullable = true)\n",
            " |-- airport_fee: double (nullable = true)\n",
            "\n"
          ]
        }
      ]
    },
    {
      "cell_type": "markdown",
      "source": [],
      "metadata": {
        "id": "49ve-QsfQAml"
      }
    },
    {
      "cell_type": "markdown",
      "source": [
        " Step 6: Basic data cleaning"
      ],
      "metadata": {
        "id": "ra9nAmUSR7Tp"
      }
    },
    {
      "cell_type": "code",
      "source": [
        "df_clean = df.dropna(subset=[\"trip_distance\", \"passenger_count\", \"fare_amount\"])\n",
        "\n",
        "# Filter out invalid records\n",
        "df_clean = df_clean.filter((col(\"trip_distance\") > 0) & (col(\"fare_amount\") > 0))"
      ],
      "metadata": {
        "id": "_rvaWiapNACf"
      },
      "execution_count": 13,
      "outputs": []
    },
    {
      "cell_type": "markdown",
      "source": [
        "Step 7: Exploratory Data Analysis"
      ],
      "metadata": {
        "id": "uVB5abJUSTLq"
      }
    },
    {
      "cell_type": "code",
      "source": [
        "total_trips = df_clean.count()\n",
        "print(\"Total Trips:\", total_trips)\n",
        "\n",
        "# Average trip distance\n",
        "df_clean.select(avg(\"trip_distance\").alias(\"Avg Trip Distance\")).show()\n",
        "\n",
        "# Most common payment types\n",
        "df_clean.groupBy(\"payment_type\") \\\n",
        "        .agg(count(\"*\").alias(\"count\")) \\\n",
        "        .orderBy(desc(\"count\")) \\\n",
        "        .show()\n",
        "\n",
        "# Average fare per passenger count\n",
        "df_clean.groupBy(\"passenger_count\") \\\n",
        "        .agg(avg(\"fare_amount\").alias(\"Avg Fare\")) \\\n",
        "        .orderBy(\"passenger_count\") \\\n",
        "        .show()"
      ],
      "metadata": {
        "colab": {
          "base_uri": "https://localhost:8080/"
        },
        "id": "nzEtBEDaSExE",
        "outputId": "fbc5501d-e661-4f57-ff4e-e564b805977e"
      },
      "execution_count": 14,
      "outputs": [
        {
          "output_type": "stream",
          "name": "stdout",
          "text": [
            "Total Trips: 2934181\n",
            "+------------------+\n",
            "| Avg Trip Distance|\n",
            "+------------------+\n",
            "|3.4617694716173912|\n",
            "+------------------+\n",
            "\n",
            "+------------+-------+\n",
            "|payment_type|  count|\n",
            "+------------+-------+\n",
            "|           1|2390461|\n",
            "|           2| 517040|\n",
            "|           4|  16535|\n",
            "|           3|  10145|\n",
            "+------------+-------+\n",
            "\n",
            "+---------------+------------------+\n",
            "|passenger_count|          Avg Fare|\n",
            "+---------------+------------------+\n",
            "|            0.0|16.168202510359798|\n",
            "|            1.0|18.074408467255598|\n",
            "|            2.0| 20.40332980243411|\n",
            "|            3.0| 19.86253246753282|\n",
            "|            4.0|20.882765446795513|\n",
            "|            5.0| 17.96817410966637|\n",
            "|            6.0|18.043596657262192|\n",
            "|            7.0|              67.8|\n",
            "|            8.0| 82.49571428571429|\n",
            "+---------------+------------------+\n",
            "\n"
          ]
        }
      ]
    },
    {
      "cell_type": "markdown",
      "source": [
        "Step 8: Deriving Insights"
      ],
      "metadata": {
        "id": "hn5aEpmTShx2"
      }
    },
    {
      "cell_type": "code",
      "source": [
        "df_clean.groupBy(\"payment_type\") \\\n",
        "        .agg(avg(\"trip_distance\").alias(\"Avg Trip Distance\")) \\\n",
        "        .orderBy(desc(\"Avg Trip Distance\")) \\\n",
        "        .show()\n",
        "\n",
        "# Total revenue generated (approx.)\n",
        "total_revenue = df_clean.agg({\"fare_amount\": \"sum\"}).collect()[0][0]\n",
        "print(f\"Total Revenue Generated: ${total_revenue:,.2f}\")\n"
      ],
      "metadata": {
        "colab": {
          "base_uri": "https://localhost:8080/"
        },
        "id": "ps_97Mn7SZ1a",
        "outputId": "13a93eba-a92d-4ef2-cb50-66be36030b00"
      },
      "execution_count": 15,
      "outputs": [
        {
          "output_type": "stream",
          "name": "stdout",
          "text": [
            "+------------+------------------+\n",
            "|payment_type| Avg Trip Distance|\n",
            "+------------+------------------+\n",
            "|           1|3.4650946323742486|\n",
            "|           2| 3.461348116200059|\n",
            "|           4|3.2594647716964125|\n",
            "|           3|3.0294677180877136|\n",
            "+------------+------------------+\n",
            "\n",
            "Total Revenue Generated: $54,300,005.24\n"
          ]
        }
      ]
    },
    {
      "cell_type": "markdown",
      "source": [
        "Step 9: Stop Spark Session"
      ],
      "metadata": {
        "id": "q-dgxe9hSygj"
      }
    },
    {
      "cell_type": "code",
      "source": [
        "spark.stop()"
      ],
      "metadata": {
        "id": "oh9FdcMwSrel"
      },
      "execution_count": 16,
      "outputs": []
    },
    {
      "cell_type": "code",
      "source": [],
      "metadata": {
        "id": "Zk06GEjHS4r8"
      },
      "execution_count": null,
      "outputs": []
    }
  ]
}